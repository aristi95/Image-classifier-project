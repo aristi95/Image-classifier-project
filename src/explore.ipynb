{
    "cells": [
        {
            "cell_type": "code",
            "execution_count": 2,
            "metadata": {},
            "outputs": [
                {
                    "name": "stderr",
                    "output_type": "stream",
                    "text": [
                        "2025-08-12 12:45:07.455931: I tensorflow/core/util/port.cc:153] oneDNN custom operations are on. You may see slightly different numerical results due to floating-point round-off errors from different computation orders. To turn them off, set the environment variable `TF_ENABLE_ONEDNN_OPTS=0`.\n",
                        "2025-08-12 12:45:07.477569: I external/local_xla/xla/tsl/cuda/cudart_stub.cc:32] Could not find cuda drivers on your machine, GPU will not be used.\n",
                        "2025-08-12 12:45:07.643669: I external/local_xla/xla/tsl/cuda/cudart_stub.cc:32] Could not find cuda drivers on your machine, GPU will not be used.\n",
                        "2025-08-12 12:45:07.739318: E external/local_xla/xla/stream_executor/cuda/cuda_fft.cc:467] Unable to register cuFFT factory: Attempting to register factory for plugin cuFFT when one has already been registered\n",
                        "WARNING: All log messages before absl::InitializeLog() is called are written to STDERR\n",
                        "E0000 00:00:1755002707.831985    3572 cuda_dnn.cc:8579] Unable to register cuDNN factory: Attempting to register factory for plugin cuDNN when one has already been registered\n",
                        "E0000 00:00:1755002707.849494    3572 cuda_blas.cc:1407] Unable to register cuBLAS factory: Attempting to register factory for plugin cuBLAS when one has already been registered\n",
                        "W0000 00:00:1755002707.952106    3572 computation_placer.cc:177] computation placer already registered. Please check linkage and avoid linking the same target more than once.\n",
                        "W0000 00:00:1755002707.952153    3572 computation_placer.cc:177] computation placer already registered. Please check linkage and avoid linking the same target more than once.\n",
                        "W0000 00:00:1755002707.952156    3572 computation_placer.cc:177] computation placer already registered. Please check linkage and avoid linking the same target more than once.\n",
                        "W0000 00:00:1755002707.952159    3572 computation_placer.cc:177] computation placer already registered. Please check linkage and avoid linking the same target more than once.\n",
                        "2025-08-12 12:45:07.977663: I tensorflow/core/platform/cpu_feature_guard.cc:210] This TensorFlow binary is optimized to use available CPU instructions in performance-critical operations.\n",
                        "To enable the following instructions: AVX2 AVX512F AVX512_VNNI FMA, in other operations, rebuild TensorFlow with the appropriate compiler flags.\n"
                    ]
                }
            ],
            "source": [
                "# Importamos las librerías\n",
                "import numpy as np\n",
                "import matplotlib.pyplot as plt\n",
                "from tensorflow.keras.preprocessing.image import ImageDataGenerator\n",
                "from tensorflow.keras.models import Sequential\n",
                "from tensorflow.keras.layers import Conv2D, MaxPooling2D, Flatten, Dense\n",
                "from tensorflow.keras.callbacks import ModelCheckpoint"
            ]
        },
        {
            "cell_type": "code",
            "execution_count": null,
            "metadata": {},
            "outputs": [],
            "source": [
                "# Tamaño de las imágenes \n",
                "size = 150\n",
                "\n",
                "# Generador para los datos de entrenamiento\n",
                "train_datagen = ImageDataGenerator(rescale=1./255)\n",
                "\n",
                "# Generador para los datos de validación\n",
                "val_datagen = ImageDataGenerator(rescale=1./255)\n",
                "\n",
                "# Cargamos las imágenes\n",
                "train_generator = train_datagen.flow_from_directory(\n",
                "        'data/train',\n",
                "        target_size=(size, size),\n",
                "        batch_size=20,\n",
                "        class_mode='binary')\n",
                "\n",
                "validation_generator = val_datagen.flow_from_directory(\n",
                "        'data/test',\n",
                "        target_size=(size, size),\n",
                "        batch_size=20,\n",
                "        class_mode='binary')"
            ]
        },
        {
            "cell_type": "code",
            "execution_count": null,
            "metadata": {},
            "outputs": [],
            "source": [
                "modelo = Sequential([\n",
                "    Conv2D(32, (3, 3), activation='relu', input_shape=(size, size, 3)),\n",
                "    MaxPooling2D(2, 2),\n",
                "    \n",
                "    Conv2D(64, (3, 3), activation='relu'),\n",
                "    MaxPooling2D(2, 2),\n",
                "    \n",
                "    Conv2D(128, (3, 3), activation='relu'),\n",
                "    MaxPooling2D(2, 2),\n",
                "    \n",
                "    Flatten(),\n",
                "    Dense(512, activation='relu'),\n",
                "    Dense(1, activation='sigmoid')\n",
                "])\n",
                "\n",
                "# Compilamos el modelo\n",
                "modelo.compile(loss='binary_crossentropy',\n",
                "              optimizer='adam',\n",
                "              metrics=['accuracy'])"
            ]
        },
        {
            "cell_type": "code",
            "execution_count": null,
            "metadata": {},
            "outputs": [],
            "source": [
                "# Guardamos el mejor modelo durante el entrenamiento\n",
                "checkpoint = ModelCheckpoint('mejor_modelo.h5', \n",
                "                           monitor='val_accuracy',\n",
                "                           save_best_only=True,\n",
                "                           verbose=1)\n",
                "\n",
                "# Entrenamiento\n",
                "historia = modelo.fit(\n",
                "      train_generator,\n",
                "      steps_per_epoch=100,  # Número de lotes por época\n",
                "      epochs=5,\n",
                "      validation_data=validation_generator,\n",
                "      validation_steps=50,  # Número de lotes para validación\n",
                "      callbacks=[checkpoint],\n",
                "      verbose=1)"
            ]
        },
        {
            "cell_type": "code",
            "execution_count": null,
            "metadata": {},
            "outputs": [],
            "source": [
                "# Cargamos el mejor modelo guardado\n",
                "from tensorflow.keras.models import load_model\n",
                "modelo_final = load_model('mejor_modelo.h5')\n",
                "\n",
                "# Función para probar una imagen\n",
                "def predecir_imagen(ruta):\n",
                "    img = plt.imread(ruta)\n",
                "    plt.imshow(img)\n",
                "    plt.axis('off')\n",
                "    \n",
                "    # Preprocesamiento\n",
                "    img = tf.image.resize(img, [size, size])\n",
                "    img = np.expand_dims(img, axis=0) / 255.0\n",
                "    \n",
                "    # Predicción\n",
                "    prediccion = modelo_final.predict(img)\n",
                "    if prediccion < 0.5:\n",
                "        plt.title(f'Gato ({100*(1-prediccion[0][0]):.1f}%)')\n",
                "    else:\n",
                "        plt.title(f'Perro ({100*prediccion[0][0]:.1f}%)')\n",
                "    plt.show()\n",
                "\n",
                "# Probamos con una imagen\n",
                "predecir_imagen('imagen.jpg')"
            ]
        }
    ],
    "metadata": {
        "kernelspec": {
            "display_name": "Python 3",
            "language": "python",
            "name": "python3"
        },
        "language_info": {
            "codemirror_mode": {
                "name": "ipython",
                "version": 3
            },
            "file_extension": ".py",
            "mimetype": "text/x-python",
            "name": "python",
            "nbconvert_exporter": "python",
            "pygments_lexer": "ipython3",
            "version": "3.11.4"
        },
        "orig_nbformat": 4
    },
    "nbformat": 4,
    "nbformat_minor": 2
}
